{
 "cells": [
  {
   "cell_type": "markdown",
   "id": "72473091",
   "metadata": {},
   "source": [
    "# House Type Classification Using Naive Bayes "
   ]
  },
  {
   "cell_type": "code",
   "execution_count": 1,
   "id": "3a8cfd61",
   "metadata": {},
   "outputs": [],
   "source": [
    "import pandas as pd\n",
    "import numpy as np\n",
    "import matplotlib.pyplot as plt\n",
    "import time\n",
    "import math\n",
    "import calendar\n",
    "from sklearn.naive_bayes import GaussianNB "
   ]
  },
  {
   "cell_type": "markdown",
   "id": "ae82efbb",
   "metadata": {},
   "source": [
    "## Goal\n",
    "\n",
    "Use Naive Bayes to predict the house type of homes in Melbourne and compare the results of our classifier to skikit-learn's Naive Bayes classifier. "
   ]
  },
  {
   "cell_type": "markdown",
   "id": "2cc7cfa1",
   "metadata": {},
   "source": [
    "## Load data"
   ]
  },
  {
   "cell_type": "code",
   "execution_count": 2,
   "id": "a22da35a",
   "metadata": {},
   "outputs": [],
   "source": [
    "df_melb = pd.read_csv('https://gist.githubusercontent.com/yanyanzheng96/81b236aecee57f6cf65e60afd865d2bb/raw/56ddb53aa90c26ab1bdbfd0b8d8229c8d08ce45a/melb_data_train.csv')\n",
    "target_col = 'Type'"
   ]
  },
  {
   "cell_type": "markdown",
   "id": "2f985a83",
   "metadata": {},
   "source": [
    "## Change date attribute to be numeric "
   ]
  },
  {
   "cell_type": "code",
   "execution_count": 3,
   "id": "6a4a6fae",
   "metadata": {},
   "outputs": [],
   "source": [
    "# function to convert date to seconds since epoch \n",
    "def standardize_date(d):\n",
    "    split = d.split('/')\n",
    "    dateStr = split[0] + ' ' + split[1] + ' '\n",
    "    if len(split[2]) == 2:\n",
    "        dateStr += split[2]\n",
    "    else:\n",
    "        yearSplit = list(split[2])\n",
    "        dateStr += yearSplit[2]\n",
    "        dateStr += yearSplit[3]\n",
    "    return dateStr"
   ]
  },
  {
   "cell_type": "code",
   "execution_count": 4,
   "id": "ec21b46e",
   "metadata": {},
   "outputs": [
    {
     "name": "stdout",
     "output_type": "stream",
     "text": [
      "The min unixtime is 1454565600 and the max unixtime is 1506142800\n"
     ]
    }
   ],
   "source": [
    "df_melb['Date'] = df_melb['Date'].apply( standardize_date )\n",
    "df_melb['unixtime'] = df_melb['Date'].apply(lambda x: int(time.mktime(time.strptime(x, \"%d %m %y\"))))\n",
    "df_melb = df_melb.drop(columns=\"Date\")\n",
    "print(\"The min unixtime is {:d} and the max unixtime is {:d}\".format(df_melb['unixtime'].min(),df_melb['unixtime'].max()))"
   ]
  },
  {
   "cell_type": "markdown",
   "id": "69439680",
   "metadata": {},
   "source": [
    "## Calculate prior probabilities for each possible type"
   ]
  },
  {
   "cell_type": "code",
   "execution_count": 5,
   "id": "ac50570e",
   "metadata": {},
   "outputs": [
    {
     "data": {
      "text/plain": [
       "{'h': 0.452, 'u': 0.418, 't': 0.13}"
      ]
     },
     "execution_count": 5,
     "metadata": {},
     "output_type": "execute_result"
    }
   ],
   "source": [
    "dict_priors = {}\n",
    "counts = df_melb['Type'].value_counts()\n",
    "\n",
    "for typePos in counts.index:\n",
    "    dict_priors[typePos] = (counts[typePos] / len(df_melb))\n",
    "    \n",
    "# show the priors\n",
    "dict_priors"
   ]
  },
  {
   "cell_type": "markdown",
   "id": "d788ba4e",
   "metadata": {},
   "source": [
    "## Create a model for the distribution of all the numeric attributes\n",
    "For each attribute, the sample mean and sample standard deviation are calculated and stored in the nested dictionary 'dict_nb_model'. "
   ]
  },
  {
   "cell_type": "code",
   "execution_count": 6,
   "id": "4abff0fe",
   "metadata": {},
   "outputs": [],
   "source": [
    "dict_nb_model = dict()\n",
    "df2 = df_melb.drop('Type', axis = 1)\n",
    "\n",
    "for target in dict_priors.keys():\n",
    "    dict_nb_model[target] = dict()\n",
    "    for col in df2.columns:\n",
    "        mean = df_melb[df_melb['Type'] == target][col].mean()\n",
    "        sd = df_melb[df_melb['Type'] == target][col].std()\n",
    "        dict_nb_model[target][col] = (mean, sd)"
   ]
  },
  {
   "cell_type": "code",
   "execution_count": 7,
   "id": "d3b250c5",
   "metadata": {},
   "outputs": [
    {
     "data": {
      "text/plain": [
       "{'h': {'Rooms': (3.269911504424779, 0.7258264201127756),\n",
       "  'Price': (1189022.3451327435, 586296.5794417895),\n",
       "  'Distance': (12.086725663716816, 7.397501132737295),\n",
       "  'Postcode': (3103.8982300884954, 98.35750345419703),\n",
       "  'Bathroom': (1.5619469026548674, 0.6720871086493075),\n",
       "  'Car': (1.7777777777777777, 0.932759177140425),\n",
       "  'Landsize': (932.9646017699115, 3830.7934157687164),\n",
       "  'BuildingArea': (156.2433962264151, 54.62662837301434),\n",
       "  'YearBuilt': (1954.900826446281, 32.461876347154686),\n",
       "  'unixtime': (1485736247.7876105, 13838422.086267859)},\n",
       " 'u': {'Rooms': (2.0430622009569377, 0.5908453859944267),\n",
       "  'Price': (634207.1770334928, 217947.32866736987),\n",
       "  'Distance': (8.760287081339714, 5.609778714430755),\n",
       "  'Postcode': (3120.4545454545455, 87.18475679946482),\n",
       "  'Bathroom': (1.1818181818181819, 0.42228151548662185),\n",
       "  'Car': (1.1483253588516746, 0.47231993860296956),\n",
       "  'Landsize': (436.23444976076553, 1394.3403794653254),\n",
       "  'BuildingArea': (83.85585585585585, 45.959438015166604),\n",
       "  'YearBuilt': (1976.451388888889, 24.557291330642666),\n",
       "  'unixtime': (1484195408.61244, 13494527.971570643)},\n",
       " 't': {'Rooms': (2.9076923076923076, 0.6052653582075831),\n",
       "  'Price': (1000169.2307692308, 421822.5363389935),\n",
       "  'Distance': (10.766153846153848, 4.870455475462387),\n",
       "  'Postcode': (3121.6153846153848, 100.01588816090862),\n",
       "  'Bathroom': (1.8461538461538463, 0.565430401076506),\n",
       "  'Car': (1.6923076923076923, 0.5280588545286915),\n",
       "  'Landsize': (268.18461538461537, 276.57700624711265),\n",
       "  'BuildingArea': (138.66666666666666, 53.498637054290135),\n",
       "  'YearBuilt': (1997.0227272727273, 16.99177453038181),\n",
       "  'unixtime': (1486544067.6923077, 12639902.710181205)}}"
      ]
     },
     "metadata": {},
     "output_type": "display_data"
    }
   ],
   "source": [
    "display(dict_nb_model)"
   ]
  },
  {
   "cell_type": "markdown",
   "id": "fbc763c9",
   "metadata": {},
   "source": [
    "## Write a function that calculates the probability of a Gaussian\n",
    "Given the mean, SD, and observed point (x), this function returns the probability using the formula $p(x) = \\frac{1}{\\sigma \\sqrt{2 \\pi}} e^{-\\frac{1}{2}(\\frac{x-\\mu}{\\sigma})^2}$. "
   ]
  },
  {
   "cell_type": "code",
   "execution_count": 8,
   "id": "3b23b259",
   "metadata": {},
   "outputs": [],
   "source": [
    "def get_p( mu, sigma, x):\n",
    "    term1 = 1 / (sigma * math.sqrt(2*math.pi))\n",
    "    term2 = np.exp((-0.5) * (((x-mu)/sigma)**2))\n",
    "    p = term1 * term2\n",
    "    return p"
   ]
  },
  {
   "cell_type": "markdown",
   "id": "2b420171",
   "metadata": {},
   "source": [
    "## Generate the Naive Bayes classifier function\n",
    "This function takes in the prior probability dictionary, the dictionary containing all of the gaussian distribution information for each attribue, and a single observation row of the test dataframe. It returns the target classification. "
   ]
  },
  {
   "cell_type": "code",
   "execution_count": 9,
   "id": "5de6ca8e",
   "metadata": {},
   "outputs": [],
   "source": [
    "def nb_class( dict_priors, dict_nb_model, observation):\n",
    "    probs = []\n",
    "    columns = dict_nb_model[list(dict_nb_model.keys())[0]].keys()\n",
    "\n",
    "    for key in dict_nb_model.keys():\n",
    "        keyProbs = []\n",
    "        for col in columns:\n",
    "            if not math.isnan(observation[col]):\n",
    "                if col != 'Type':\n",
    "                    mu = dict_nb_model[key][col][0]\n",
    "                    sigma = dict_nb_model[key][col][1]\n",
    "                    x = observation[col]\n",
    "                    keyProb = get_p(mu, sigma, x)\n",
    "                    keyProbs.append(keyProb)\n",
    "        prob = 1\n",
    "        for p in keyProbs:\n",
    "            prob *= p\n",
    "        probs.append(prob * dict_priors[key])\n",
    "    \n",
    "    maxIdx = np.argmax(probs)\n",
    "    return list(dict_nb_model.keys())[maxIdx]"
   ]
  },
  {
   "cell_type": "markdown",
   "id": "c771d7bb",
   "metadata": {},
   "source": [
    "## Calculate the accuracy of our classifier "
   ]
  },
  {
   "cell_type": "code",
   "execution_count": 10,
   "id": "6df3ac61",
   "metadata": {},
   "outputs": [],
   "source": [
    "df_test = pd.read_csv('https://gist.githubusercontent.com/yanyanzheng96/c3d53303cebbd986b166591d19254bac/raw/94eb3b2d500d5f7bbc0441a8419cd855349d5d8e/melb_data_test.csv')\n",
    "df_test['Date'] = df_test['Date'].apply( standardize_date )\n",
    "df_test['unixtime'] = df_test['Date'].apply(lambda x: int(time.mktime(time.strptime(x, \"%d %m %y\"))))\n",
    "df_test = df_test.drop(columns=\"Date\")"
   ]
  },
  {
   "cell_type": "code",
   "execution_count": 11,
   "id": "5d67c998",
   "metadata": {},
   "outputs": [],
   "source": [
    "predictions = []\n",
    "\n",
    "for (indx,row) in df_test.iterrows():\n",
    "    pred = nb_class(dict_priors, dict_nb_model, row)\n",
    "    predictions.append(pred)   "
   ]
  },
  {
   "cell_type": "code",
   "execution_count": 13,
   "id": "c2acf614",
   "metadata": {},
   "outputs": [
    {
     "name": "stdout",
     "output_type": "stream",
     "text": [
      "Accuracy is 57.00%\n"
     ]
    }
   ],
   "source": [
    "correct = 0\n",
    "for i in range(len(predictions)):\n",
    "    if df_test['Type'][i] == predictions[i]:\n",
    "        correct += 1\n",
    "\n",
    "acc = correct / len(predictions)\n",
    "print('Accuracy is {:.2f}%'.format(acc*100))"
   ]
  },
  {
   "cell_type": "markdown",
   "id": "691d796e",
   "metadata": {},
   "source": [
    "## Compare our classifier to scikit-learn's classfier. "
   ]
  },
  {
   "cell_type": "code",
   "execution_count": 14,
   "id": "ce32f7b5",
   "metadata": {},
   "outputs": [],
   "source": [
    "# Imputation training\n",
    "dict_imputation = dict()\n",
    "for col in df_melb.columns:\n",
    "    if col != target_col:\n",
    "        dict_imputation[col] = df_melb[col].mean()\n",
    "        \n",
    "# Imputation - apply on the test data\n",
    "df_melb.fillna(value=dict_imputation, inplace=True)\n",
    "\n",
    "# Seperate the attributes from the target_col\n",
    "df_X = df_melb.drop('Type', axis = 1)\n",
    "s_y = df_melb['Type']"
   ]
  },
  {
   "cell_type": "code",
   "execution_count": 15,
   "id": "87f7701a",
   "metadata": {},
   "outputs": [],
   "source": [
    "gnb = GaussianNB()\n",
    "fit = gnb.fit(df_X, s_y)\n",
    "\n",
    "df_test.fillna(value=dict_imputation, inplace=True)\n",
    "\n",
    "y_pred = fit.predict(df_test.drop('Type', axis = 1))\n",
    "y_actual = df_test['Type']"
   ]
  },
  {
   "cell_type": "code",
   "execution_count": 16,
   "id": "e09ff1bc",
   "metadata": {},
   "outputs": [
    {
     "name": "stdout",
     "output_type": "stream",
     "text": [
      "Accuracy is 37.00%\n"
     ]
    }
   ],
   "source": [
    "correct = 0\n",
    "for i in range(len(y_actual)):\n",
    "    if y_pred[i] == y_actual[i]:\n",
    "        correct += 1\n",
    "        \n",
    "acc = correct / len(y_actual)\n",
    "print('Accuracy is {:.2f}%'.format(acc*100))"
   ]
  },
  {
   "cell_type": "markdown",
   "id": "96d15436",
   "metadata": {},
   "source": [
    "- Based on the fact that the accuracy decreased by 20% when using imputation, I would say that the imputation process hurt the classifier. This could be because the mean values used to fill in missing values might not accurately represent that observation, causing it to be misclassified. "
   ]
  }
 ],
 "metadata": {
  "kernelspec": {
   "display_name": "Python 3 (ipykernel)",
   "language": "python",
   "name": "python3"
  },
  "language_info": {
   "codemirror_mode": {
    "name": "ipython",
    "version": 3
   },
   "file_extension": ".py",
   "mimetype": "text/x-python",
   "name": "python",
   "nbconvert_exporter": "python",
   "pygments_lexer": "ipython3",
   "version": "3.9.13"
  }
 },
 "nbformat": 4,
 "nbformat_minor": 5
}
